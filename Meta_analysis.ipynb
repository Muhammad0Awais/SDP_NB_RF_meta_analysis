{
  "nbformat": 4,
  "nbformat_minor": 0,
  "metadata": {
    "colab": {
      "provenance": [],
      "collapsed_sections": [],
      "include_colab_link": true
    },
    "kernelspec": {
      "name": "ir",
      "display_name": "R"
    }
  },
  "cells": [
    {
      "cell_type": "markdown",
      "metadata": {
        "id": "view-in-github",
        "colab_type": "text"
      },
      "source": [
        "<a href=\"https://colab.research.google.com/github/Muhammad0Awais/submission_AI_conference/blob/main/Meta_analysis.ipynb\" target=\"_parent\"><img src=\"https://colab.research.google.com/assets/colab-badge.svg\" alt=\"Open In Colab\"/></a>"
      ]
    },
    {
      "cell_type": "markdown",
      "metadata": {
        "id": "n1l3aWNbzxbX"
      },
      "source": [
        "# Forest plots for Meta-analytical study of defect prediction comparison between Naive Bayes and Random Forests."
      ]
    },
    {
      "cell_type": "markdown",
      "metadata": {
        "id": "6HMPHG_41y1V"
      },
      "source": [
        "## Installing packages\n"
      ]
    },
    {
      "cell_type": "code",
      "metadata": {
        "colab": {
          "base_uri": "https://localhost:8080/"
        },
        "id": "KZsfrT4t0H3C",
        "outputId": "93886a44-2dde-4ac7-ecfc-1fc411967fad"
      },
      "source": [
        "install.packages(\"devtools\") #will help us to install required packages\n",
        "devtools::install_github(\"guido-s/meta\") #installation of meta - package for a meta-analysis\n",
        "\n",
        "library(meta)"
      ],
      "execution_count": null,
      "outputs": [
        {
          "output_type": "stream",
          "name": "stderr",
          "text": [
            "Installing package into ‘/usr/local/lib/R/site-library’\n",
            "(as ‘lib’ is unspecified)\n",
            "\n",
            "also installing the dependencies ‘Rcpp’, ‘httpuv’, ‘xtable’, ‘fontawesome’, ‘sourcetools’, ‘later’, ‘promises’, ‘textshaping’, ‘shiny’, ‘downlit’, ‘ragg’, ‘htmlwidgets’, ‘miniUI’, ‘pkgdown’, ‘profvis’, ‘roxygen2’, ‘urlchecker’\n",
            "\n",
            "\n",
            "Warning message in install.packages(\"devtools\"):\n",
            "“installation of package ‘textshaping’ had non-zero exit status”\n",
            "Warning message in install.packages(\"devtools\"):\n",
            "“installation of package ‘ragg’ had non-zero exit status”\n",
            "Warning message in install.packages(\"devtools\"):\n",
            "“installation of package ‘pkgdown’ had non-zero exit status”\n",
            "Warning message in install.packages(\"devtools\"):\n",
            "“installation of package ‘devtools’ had non-zero exit status”\n",
            "Downloading GitHub repo guido-s/meta@HEAD\n",
            "\n"
          ]
        },
        {
          "output_type": "stream",
          "name": "stdout",
          "text": [
            "tibble       (3.1.7 -> 3.1.8    ) [CRAN]\n",
            "mathjaxr     (NA    -> 1.6-0    ) [CRAN]\n",
            "RcppEigen    (NA    -> 0.3.3.9.2) [CRAN]\n",
            "nloptr       (NA    -> 2.0.3    ) [CRAN]\n",
            "minqa        (NA    -> 1.2.4    ) [CRAN]\n",
            "pbapply      (NA    -> 1.5-0    ) [CRAN]\n",
            "metadat      (NA    -> 1.2-0    ) [CRAN]\n",
            "CompQuadForm (NA    -> 1.4.3    ) [CRAN]\n",
            "lme4         (NA    -> 1.1-30   ) [CRAN]\n",
            "metafor      (NA    -> 3.8-1    ) [CRAN]\n"
          ]
        },
        {
          "output_type": "stream",
          "name": "stderr",
          "text": [
            "Installing 10 packages: tibble, mathjaxr, RcppEigen, nloptr, minqa, pbapply, metadat, CompQuadForm, lme4, metafor\n",
            "\n",
            "Installing packages into ‘/usr/local/lib/R/site-library’\n",
            "(as ‘lib’ is unspecified)\n",
            "\n"
          ]
        },
        {
          "output_type": "stream",
          "name": "stdout",
          "text": [
            "* checking for file ‘/tmp/RtmpRozWFb/remotes3164b14678/guido-s-meta-7d7c227/DESCRIPTION’ ... OK\n",
            "* preparing ‘meta’:\n",
            "* checking DESCRIPTION meta-information ... OK\n",
            "* checking for LF line-endings in source and make files and shell scripts\n",
            "* checking for empty or unneeded directories\n",
            "* looking to see if a ‘data/datalist’ file should be added\n",
            "* building ‘meta_6.0-1.tar.gz’\n",
            "\n"
          ]
        },
        {
          "output_type": "stream",
          "name": "stderr",
          "text": [
            "Installing package into ‘/usr/local/lib/R/site-library’\n",
            "(as ‘lib’ is unspecified)\n",
            "\n",
            "Loading 'meta' package (version 6.0-1).\n",
            "Type 'help(meta)' for a brief overview.\n",
            "Readers of 'Meta-Analysis with R (Use R!)' should install\n",
            "older version of 'meta' package: https://tinyurl.com/dt4y5drs\n",
            "\n"
          ]
        }
      ]
    },
    {
      "cell_type": "markdown",
      "metadata": {
        "id": "bj0dzMMC2oft"
      },
      "source": [
        "Loading the file to use it for our meta-analysis!"
      ]
    },
    {
      "cell_type": "code",
      "metadata": {
        "colab": {
          "base_uri": "https://localhost:8080/",
          "height": 1000
        },
        "id": "vNL50kqG1yMS",
        "outputId": "78777ba0-5385-4a3e-cf45-945c37fe0543"
      },
      "source": [
        "file = \"/content/data/dataset.csv\"\n",
        "our_data <- read.csv(file)\n",
        "our_data"
      ],
      "execution_count": null,
      "outputs": [
        {
          "output_type": "display_data",
          "data": {
            "text/html": [
              "<table class=\"dataframe\">\n",
              "<caption>A data.frame: 5 × 17</caption>\n",
              "<thead>\n",
              "\t<tr><th scope=col>Title</th><th scope=col>Authors</th><th scope=col>Year</th><th scope=col>Number_of_observations_for_NB</th><th scope=col>Number_of_observations_for_RF</th><th scope=col>Precision_NB_mean</th><th scope=col>Precision_RF_mean</th><th scope=col>Precision_NB_std</th><th scope=col>Precision_RF_std</th><th scope=col>Recall_NB_mean</th><th scope=col>Recall_RF_mean</th><th scope=col>Recall_NB_std</th><th scope=col>Recall_RF_std</th><th scope=col>F_Measure_NB_mean</th><th scope=col>F_Measure_RF_mean</th><th scope=col>F_Measure_NB_std</th><th scope=col>F_Measure_RF_std</th></tr>\n",
              "\t<tr><th scope=col>&lt;chr&gt;</th><th scope=col>&lt;chr&gt;</th><th scope=col>&lt;int&gt;</th><th scope=col>&lt;int&gt;</th><th scope=col>&lt;int&gt;</th><th scope=col>&lt;dbl&gt;</th><th scope=col>&lt;dbl&gt;</th><th scope=col>&lt;dbl&gt;</th><th scope=col>&lt;dbl&gt;</th><th scope=col>&lt;dbl&gt;</th><th scope=col>&lt;dbl&gt;</th><th scope=col>&lt;dbl&gt;</th><th scope=col>&lt;dbl&gt;</th><th scope=col>&lt;dbl&gt;</th><th scope=col>&lt;dbl&gt;</th><th scope=col>&lt;dbl&gt;</th><th scope=col>&lt;dbl&gt;</th></tr>\n",
              "</thead>\n",
              "<tbody>\n",
              "\t<tr><td>Performance analysis of machine learning techniques on software defect prediction using NASA datasets                             </td><td>Iqbal AAftab SAli U et al.   </td><td>2019</td><td>24</td><td>24</td><td>0.6017917</td><td>0.6468750</td><td>0.32214458</td><td>0.3122687</td><td>0.6260417</td><td>0.5792500</td><td>0.33198605</td><td>0.395229515</td><td>0.5855000</td><td>0.5908333</td><td>0.31297159</td><td>0.35651254</td></tr>\n",
              "\t<tr><td>Is Open-Source Software Valuable for Software Defect Prediction of Proprietary Software and Vice Versa?                           </td><td>Kakkar MJain SBansal A et al.</td><td>2018</td><td> 7</td><td> 7</td><td>0.8485714</td><td>0.8385714</td><td>0.11625096</td><td>0.1273353</td><td>0.9514286</td><td>0.9914286</td><td>0.01951800</td><td>0.006900656</td><td>0.8942857</td><td>0.9057143</td><td>0.06876461</td><td>0.07870983</td></tr>\n",
              "\t<tr><td>Evaluating defect prediction approaches using a massive set of metrics: An empirical study                                        </td><td>Xuan XLo DXia X et al.       </td><td>2015</td><td> 1</td><td> 1</td><td>0.4500000</td><td>0.5130000</td><td>0.00000000</td><td>0.0000000</td><td>0.3830000</td><td>0.3070000</td><td>0.00000000</td><td>0.000000000</td><td>0.3990000</td><td>0.3730000</td><td>0.00000000</td><td>0.00000000</td></tr>\n",
              "\t<tr><td>Software fault proneness prediction: a comparative study between bagging, boosting, and stacking ensemble and base learner methods</td><td>Alazzam IAlsmadi IAkour M    </td><td>2017</td><td> 4</td><td> 4</td><td>0.8980000</td><td>0.8920000</td><td>0.05028585</td><td>0.0454826</td><td>0.9252500</td><td>0.9672500</td><td>0.02075853</td><td>0.015326991</td><td>0.7975000</td><td>0.9282500</td><td>0.03506660</td><td>0.03162673</td></tr>\n",
              "\t<tr><td><span style=white-space:pre-wrap>The Integrity of Machine Learning Algorithms against Software Defect Prediction                                                   </span></td><td><span style=white-space:pre-wrap>Khakhar&amp;Dubey et al.         </span></td><td>2020</td><td> 6</td><td> 6</td><td><span style=white-space:pre-wrap>       NA</span></td><td><span style=white-space:pre-wrap>       NA</span></td><td><span style=white-space:pre-wrap>        NA</span></td><td><span style=white-space:pre-wrap>       NA</span></td><td>0.3658333</td><td>0.2025000</td><td>0.39933333</td><td>0.206000000</td><td><span style=white-space:pre-wrap>       NA</span></td><td><span style=white-space:pre-wrap>       NA</span></td><td><span style=white-space:pre-wrap>        NA</span></td><td><span style=white-space:pre-wrap>        NA</span></td></tr>\n",
              "</tbody>\n",
              "</table>\n"
            ],
            "text/markdown": "\nA data.frame: 5 × 17\n\n| Title &lt;chr&gt; | Authors &lt;chr&gt; | Year &lt;int&gt; | Number_of_observations_for_NB &lt;int&gt; | Number_of_observations_for_RF &lt;int&gt; | Precision_NB_mean &lt;dbl&gt; | Precision_RF_mean &lt;dbl&gt; | Precision_NB_std &lt;dbl&gt; | Precision_RF_std &lt;dbl&gt; | Recall_NB_mean &lt;dbl&gt; | Recall_RF_mean &lt;dbl&gt; | Recall_NB_std &lt;dbl&gt; | Recall_RF_std &lt;dbl&gt; | F_Measure_NB_mean &lt;dbl&gt; | F_Measure_RF_mean &lt;dbl&gt; | F_Measure_NB_std &lt;dbl&gt; | F_Measure_RF_std &lt;dbl&gt; |\n|---|---|---|---|---|---|---|---|---|---|---|---|---|---|---|---|---|\n| Performance analysis of machine learning techniques on software defect prediction using NASA datasets                              | Iqbal AAftab SAli U et al.    | 2019 | 24 | 24 | 0.6017917 | 0.6468750 | 0.32214458 | 0.3122687 | 0.6260417 | 0.5792500 | 0.33198605 | 0.395229515 | 0.5855000 | 0.5908333 | 0.31297159 | 0.35651254 |\n| Is Open-Source Software Valuable for Software Defect Prediction of Proprietary Software and Vice Versa?                            | Kakkar MJain SBansal A et al. | 2018 |  7 |  7 | 0.8485714 | 0.8385714 | 0.11625096 | 0.1273353 | 0.9514286 | 0.9914286 | 0.01951800 | 0.006900656 | 0.8942857 | 0.9057143 | 0.06876461 | 0.07870983 |\n| Evaluating defect prediction approaches using a massive set of metrics: An empirical study                                         | Xuan XLo DXia X et al.        | 2015 |  1 |  1 | 0.4500000 | 0.5130000 | 0.00000000 | 0.0000000 | 0.3830000 | 0.3070000 | 0.00000000 | 0.000000000 | 0.3990000 | 0.3730000 | 0.00000000 | 0.00000000 |\n| Software fault proneness prediction: a comparative study between bagging, boosting, and stacking ensemble and base learner methods | Alazzam IAlsmadi IAkour M     | 2017 |  4 |  4 | 0.8980000 | 0.8920000 | 0.05028585 | 0.0454826 | 0.9252500 | 0.9672500 | 0.02075853 | 0.015326991 | 0.7975000 | 0.9282500 | 0.03506660 | 0.03162673 |\n| The Integrity of Machine Learning Algorithms against Software Defect Prediction                                                    | Khakhar&amp;Dubey et al.          | 2020 |  6 |  6 |        NA |        NA |         NA |        NA | 0.3658333 | 0.2025000 | 0.39933333 | 0.206000000 |        NA |        NA |         NA |         NA |\n\n",
            "text/latex": "A data.frame: 5 × 17\n\\begin{tabular}{lllllllllllllllll}\n Title & Authors & Year & Number\\_of\\_observations\\_for\\_NB & Number\\_of\\_observations\\_for\\_RF & Precision\\_NB\\_mean & Precision\\_RF\\_mean & Precision\\_NB\\_std & Precision\\_RF\\_std & Recall\\_NB\\_mean & Recall\\_RF\\_mean & Recall\\_NB\\_std & Recall\\_RF\\_std & F\\_Measure\\_NB\\_mean & F\\_Measure\\_RF\\_mean & F\\_Measure\\_NB\\_std & F\\_Measure\\_RF\\_std\\\\\n <chr> & <chr> & <int> & <int> & <int> & <dbl> & <dbl> & <dbl> & <dbl> & <dbl> & <dbl> & <dbl> & <dbl> & <dbl> & <dbl> & <dbl> & <dbl>\\\\\n\\hline\n\t Performance analysis of machine learning techniques on software defect prediction using NASA datasets                              & Iqbal AAftab SAli U et al.    & 2019 & 24 & 24 & 0.6017917 & 0.6468750 & 0.32214458 & 0.3122687 & 0.6260417 & 0.5792500 & 0.33198605 & 0.395229515 & 0.5855000 & 0.5908333 & 0.31297159 & 0.35651254\\\\\n\t Is Open-Source Software Valuable for Software Defect Prediction of Proprietary Software and Vice Versa?                            & Kakkar MJain SBansal A et al. & 2018 &  7 &  7 & 0.8485714 & 0.8385714 & 0.11625096 & 0.1273353 & 0.9514286 & 0.9914286 & 0.01951800 & 0.006900656 & 0.8942857 & 0.9057143 & 0.06876461 & 0.07870983\\\\\n\t Evaluating defect prediction approaches using a massive set of metrics: An empirical study                                         & Xuan XLo DXia X et al.        & 2015 &  1 &  1 & 0.4500000 & 0.5130000 & 0.00000000 & 0.0000000 & 0.3830000 & 0.3070000 & 0.00000000 & 0.000000000 & 0.3990000 & 0.3730000 & 0.00000000 & 0.00000000\\\\\n\t Software fault proneness prediction: a comparative study between bagging, boosting, and stacking ensemble and base learner methods & Alazzam IAlsmadi IAkour M     & 2017 &  4 &  4 & 0.8980000 & 0.8920000 & 0.05028585 & 0.0454826 & 0.9252500 & 0.9672500 & 0.02075853 & 0.015326991 & 0.7975000 & 0.9282500 & 0.03506660 & 0.03162673\\\\\n\t The Integrity of Machine Learning Algorithms against Software Defect Prediction                                                    & Khakhar\\&Dubey et al.          & 2020 &  6 &  6 &        NA &        NA &         NA &        NA & 0.3658333 & 0.2025000 & 0.39933333 & 0.206000000 &        NA &        NA &         NA &         NA\\\\\n\\end{tabular}\n",
            "text/plain": [
              "  Title                                                                                                                             \n",
              "1 Performance analysis of machine learning techniques on software defect prediction using NASA datasets                             \n",
              "2 Is Open-Source Software Valuable for Software Defect Prediction of Proprietary Software and Vice Versa?                           \n",
              "3 Evaluating defect prediction approaches using a massive set of metrics: An empirical study                                        \n",
              "4 Software fault proneness prediction: a comparative study between bagging, boosting, and stacking ensemble and base learner methods\n",
              "5 The Integrity of Machine Learning Algorithms against Software Defect Prediction                                                   \n",
              "  Authors                       Year Number_of_observations_for_NB\n",
              "1 Iqbal AAftab SAli U et al.    2019 24                           \n",
              "2 Kakkar MJain SBansal A et al. 2018  7                           \n",
              "3 Xuan XLo DXia X et al.        2015  1                           \n",
              "4 Alazzam IAlsmadi IAkour M     2017  4                           \n",
              "5 Khakhar&Dubey et al.          2020  6                           \n",
              "  Number_of_observations_for_RF Precision_NB_mean Precision_RF_mean\n",
              "1 24                            0.6017917         0.6468750        \n",
              "2  7                            0.8485714         0.8385714        \n",
              "3  1                            0.4500000         0.5130000        \n",
              "4  4                            0.8980000         0.8920000        \n",
              "5  6                                   NA                NA        \n",
              "  Precision_NB_std Precision_RF_std Recall_NB_mean Recall_RF_mean Recall_NB_std\n",
              "1 0.32214458       0.3122687        0.6260417      0.5792500      0.33198605   \n",
              "2 0.11625096       0.1273353        0.9514286      0.9914286      0.01951800   \n",
              "3 0.00000000       0.0000000        0.3830000      0.3070000      0.00000000   \n",
              "4 0.05028585       0.0454826        0.9252500      0.9672500      0.02075853   \n",
              "5         NA              NA        0.3658333      0.2025000      0.39933333   \n",
              "  Recall_RF_std F_Measure_NB_mean F_Measure_RF_mean F_Measure_NB_std\n",
              "1 0.395229515   0.5855000         0.5908333         0.31297159      \n",
              "2 0.006900656   0.8942857         0.9057143         0.06876461      \n",
              "3 0.000000000   0.3990000         0.3730000         0.00000000      \n",
              "4 0.015326991   0.7975000         0.9282500         0.03506660      \n",
              "5 0.206000000          NA                NA                 NA      \n",
              "  F_Measure_RF_std\n",
              "1 0.35651254      \n",
              "2 0.07870983      \n",
              "3 0.00000000      \n",
              "4 0.03162673      \n",
              "5         NA      "
            ]
          },
          "metadata": {}
        }
      ]
    },
    {
      "cell_type": "code",
      "metadata": {
        "colab": {
          "base_uri": "https://localhost:8080/"
        },
        "id": "9ElYOOtn2_yJ",
        "outputId": "383fe313-bdcb-4545-c8c6-929b9514e1a2"
      },
      "source": [
        "str(our_data) #structure of our dataset"
      ],
      "execution_count": null,
      "outputs": [
        {
          "output_type": "stream",
          "name": "stdout",
          "text": [
            "'data.frame':\t5 obs. of  17 variables:\n",
            " $ Title                        : chr  \"Performance analysis of machine learning techniques on software defect prediction using NASA datasets\" \"Is Open-Source Software Valuable for Software Defect Prediction of Proprietary Software and Vice Versa?\" \"Evaluating defect prediction approaches using a massive set of metrics: An empirical study\" \"Software fault proneness prediction: a comparative study between bagging, boosting, and stacking ensemble and b\"| __truncated__ ...\n",
            " $ Authors                      : chr  \"Iqbal AAftab SAli U et al.\" \"Kakkar MJain SBansal A et al.\" \"Xuan XLo DXia X et al.\" \"Alazzam IAlsmadi IAkour M\" ...\n",
            " $ Year                         : int  2019 2018 2015 2017 2020\n",
            " $ Number_of_observations_for_NB: int  24 7 1 4 6\n",
            " $ Number_of_observations_for_RF: int  24 7 1 4 6\n",
            " $ Precision_NB_mean            : num  0.602 0.849 0.45 0.898 NA\n",
            " $ Precision_RF_mean            : num  0.647 0.839 0.513 0.892 NA\n",
            " $ Precision_NB_std             : num  0.3221 0.1163 0 0.0503 NA\n",
            " $ Precision_RF_std             : num  0.3123 0.1273 0 0.0455 NA\n",
            " $ Recall_NB_mean               : num  0.626 0.951 0.383 0.925 0.366\n",
            " $ Recall_RF_mean               : num  0.579 0.991 0.307 0.967 0.203\n",
            " $ Recall_NB_std                : num  0.332 0.0195 0 0.0208 0.3993\n",
            " $ Recall_RF_std                : num  0.3952 0.0069 0 0.0153 0.206\n",
            " $ F_Measure_NB_mean            : num  0.586 0.894 0.399 0.797 NA\n",
            " $ F_Measure_RF_mean            : num  0.591 0.906 0.373 0.928 NA\n",
            " $ F_Measure_NB_std             : num  0.313 0.0688 0 0.0351 NA\n",
            " $ F_Measure_RF_std             : num  0.3565 0.0787 0 0.0316 NA\n"
          ]
        }
      ]
    },
    {
      "cell_type": "code",
      "metadata": {
        "colab": {
          "base_uri": "https://localhost:8080/",
          "height": 34
        },
        "id": "3klZJZEG3K-M",
        "outputId": "4b0dca71-588a-4ea0-ea61-badcad4bb7fb"
      },
      "source": [
        "min(our_data$Number_of_observations_for_NB) #minimum number of experiments done in the considered papers"
      ],
      "execution_count": null,
      "outputs": [
        {
          "output_type": "display_data",
          "data": {
            "text/html": [
              "1"
            ],
            "text/markdown": "1",
            "text/latex": "1",
            "text/plain": [
              "[1] 1"
            ]
          },
          "metadata": {}
        }
      ]
    },
    {
      "cell_type": "code",
      "metadata": {
        "colab": {
          "base_uri": "https://localhost:8080/",
          "height": 711
        },
        "id": "1_w0BcXX3YB2",
        "outputId": "3aa9fc72-9908-4820-8b81-243d76ce7790"
      },
      "source": [
        "summary(our_data) #the descriptive statistics of our dataset"
      ],
      "execution_count": null,
      "outputs": [
        {
          "output_type": "display_data",
          "data": {
            "text/plain": [
              "    Title             Authors               Year     \n",
              " Length:5           Length:5           Min.   :2015  \n",
              " Class :character   Class :character   1st Qu.:2017  \n",
              " Mode  :character   Mode  :character   Median :2018  \n",
              "                                       Mean   :2018  \n",
              "                                       3rd Qu.:2019  \n",
              "                                       Max.   :2020  \n",
              "                                                     \n",
              " Number_of_observations_for_NB Number_of_observations_for_RF Precision_NB_mean\n",
              " Min.   : 1.0                  Min.   : 1.0                  Min.   :0.4500   \n",
              " 1st Qu.: 4.0                  1st Qu.: 4.0                  1st Qu.:0.5638   \n",
              " Median : 6.0                  Median : 6.0                  Median :0.7252   \n",
              " Mean   : 8.4                  Mean   : 8.4                  Mean   :0.6996   \n",
              " 3rd Qu.: 7.0                  3rd Qu.: 7.0                  3rd Qu.:0.8609   \n",
              " Max.   :24.0                  Max.   :24.0                  Max.   :0.8980   \n",
              "                                                             NA's   :1        \n",
              " Precision_RF_mean Precision_NB_std  Precision_RF_std  Recall_NB_mean  \n",
              " Min.   :0.5130    Min.   :0.00000   Min.   :0.00000   Min.   :0.3658  \n",
              " 1st Qu.:0.6134    1st Qu.:0.03771   1st Qu.:0.03411   1st Qu.:0.3830  \n",
              " Median :0.7427    Median :0.08327   Median :0.08641   Median :0.6260  \n",
              " Mean   :0.7226    Mean   :0.12217   Mean   :0.12127   Mean   :0.6503  \n",
              " 3rd Qu.:0.8519    3rd Qu.:0.16772   3rd Qu.:0.17357   3rd Qu.:0.9253  \n",
              " Max.   :0.8920    Max.   :0.32214   Max.   :0.31227   Max.   :0.9514  \n",
              " NA's   :1         NA's   :1         NA's   :1                         \n",
              " Recall_RF_mean   Recall_NB_std     Recall_RF_std      F_Measure_NB_mean\n",
              " Min.   :0.2025   Min.   :0.00000   Min.   :0.000000   Min.   :0.3990   \n",
              " 1st Qu.:0.3070   1st Qu.:0.01952   1st Qu.:0.006901   1st Qu.:0.5389   \n",
              " Median :0.5793   Median :0.02076   Median :0.015327   Median :0.6915   \n",
              " Mean   :0.6095   Mean   :0.15432   Mean   :0.124691   Mean   :0.6691   \n",
              " 3rd Qu.:0.9673   3rd Qu.:0.33199   3rd Qu.:0.206000   3rd Qu.:0.8217   \n",
              " Max.   :0.9914   Max.   :0.39933   Max.   :0.395230   Max.   :0.8943   \n",
              "                                                       NA's   :1        \n",
              " F_Measure_RF_mean F_Measure_NB_std  F_Measure_RF_std \n",
              " Min.   :0.3730    Min.   :0.00000   Min.   :0.00000  \n",
              " 1st Qu.:0.5364    1st Qu.:0.02630   1st Qu.:0.02372  \n",
              " Median :0.7483    Median :0.05192   Median :0.05517  \n",
              " Mean   :0.6994    Mean   :0.10420   Mean   :0.11671  \n",
              " 3rd Qu.:0.9113    3rd Qu.:0.12982   3rd Qu.:0.14816  \n",
              " Max.   :0.9283    Max.   :0.31297   Max.   :0.35651  \n",
              " NA's   :1         NA's   :1         NA's   :1        "
            ]
          },
          "metadata": {}
        }
      ]
    },
    {
      "cell_type": "code",
      "metadata": {
        "colab": {
          "base_uri": "https://localhost:8080/",
          "height": 399
        },
        "id": "N5YjgrU83dp0",
        "outputId": "197916e0-940b-47b5-dab8-7f8162ab2b88"
      },
      "source": [
        "ma_random_recall <- metacont(n.e = our_data$Number_of_observations_for_NB,\n",
        "                  mean.e = our_data$Recall_NB_mean,\n",
        "                  sd.e = our_data$Recall_NB_std,\n",
        "                  label.e = 'NB',\n",
        "                  n.c = our_data$Number_of_observations_for_RF,\n",
        "                  mean.c = our_data$Recall_RF_mean,\n",
        "                  sd.c = our_data$Recall_RF_std,\n",
        "                  label.c = 'RF',\n",
        "                  subset=c(1,2,4,5),\n",
        "                  studlab = our_data$Authors,\n",
        "                  comb.fixed = FALSE,\n",
        "                  comb.random = TRUE,\n",
        "                  method.tau = \"SJ\",\n",
        "                  hakn = TRUE,\n",
        "                  prediction = TRUE,\n",
        "                  sm = \"SMD\")\n",
        "ma_random_recall"
      ],
      "execution_count": null,
      "outputs": [
        {
          "output_type": "display_data",
          "data": {
            "text/plain": [
              "Number of studies combined: k = 4\n",
              "Number of observations: o = 82\n",
              "\n",
              "                         SMD            95%-CI     t p-value\n",
              "Random effects model -0.8441 [-3.2384; 1.5502] -1.12  0.3436\n",
              "Prediction interval          [-7.4411; 5.7528]              \n",
              "\n",
              "Quantifying heterogeneity:\n",
              " tau^2 = 1.7898 [0.2665; 31.3343]; tau = 1.3378 [0.5162; 5.5977]\n",
              " I^2 = 80.2% [47.6%; 92.5%]; H = 2.25 [1.38; 3.65]\n",
              "\n",
              "Test of heterogeneity:\n",
              "     Q d.f. p-value\n",
              " 15.14    3  0.0017\n",
              "\n",
              "Details on meta-analytical method:\n",
              "- Inverse variance method\n",
              "- Sidik-Jonkman estimator for tau^2\n",
              "- Q-Profile method for confidence interval of tau^2 and tau\n",
              "- Hartung-Knapp (HK) adjustment for random effects model (df = 3)\n",
              "- Prediction interval based on t-distribution (HTS) (df = 2)\n",
              "- Hedges' g (bias corrected standardised mean difference; using exact formulae)"
            ]
          },
          "metadata": {}
        }
      ]
    },
    {
      "cell_type": "code",
      "metadata": {
        "colab": {
          "base_uri": "https://localhost:8080/",
          "height": 437
        },
        "id": "Cc8XRO5fjBkt",
        "outputId": "116dfa9d-9862-488f-fea7-999c2e3b48a1"
      },
      "source": [
        "forest(ma_random_recall, test.overall.random=TRUE)"
      ],
      "execution_count": null,
      "outputs": [
        {
          "output_type": "display_data",
          "data": {
            "text/plain": [
              "plot without title"
            ],
            "image/png": "[encoded data removed]"
          },
          "metadata": {
            "image/png": {
              "width": 420,
              "height": 420
            }
          }
        }
      ]
    },
    {
      "cell_type": "code",
      "metadata": {
        "colab": {
          "base_uri": "https://localhost:8080/",
          "height": 399
        },
        "id": "y1Av9wG18Bv6",
        "outputId": "88935b5e-5742-4f5a-87cb-78c784190c41"
      },
      "source": [
        "ma_random_precision <- metacont(n.e = our_data$Number_of_observations_for_NB,\n",
        "                  mean.e = our_data$Precision_NB_mean,\n",
        "                  sd.e = our_data$Precision_NB_std,\n",
        "                  label.e = 'NB',\n",
        "                  n.c = our_data$Number_of_observations_for_RF,\n",
        "                  mean.c = our_data$Precision_RF_mean,\n",
        "                  sd.c = our_data$Precision_RF_std,\n",
        "                  subset=c(1,2,4),\n",
        "                  label.c = 'RF',\n",
        "                  studlab = our_data$Authors,\n",
        "                  comb.fixed = FALSE,\n",
        "                  comb.random = TRUE,\n",
        "                  method.tau = \"SJ\",\n",
        "                  hakn = TRUE,\n",
        "                  prediction = TRUE,\n",
        "                  sm = \"SMD\")\n",
        "ma_random_precision"
      ],
      "execution_count": null,
      "outputs": [
        {
          "output_type": "display_data",
          "data": {
            "text/plain": [
              "Number of studies combined: k = 3\n",
              "Number of observations: o = 70\n",
              "\n",
              "                         SMD            95%-CI     t p-value\n",
              "Random effects model -0.0675 [-0.3915; 0.2564] -0.90  0.4645\n",
              "Prediction interval          [-3.1535; 3.0184]              \n",
              "\n",
              "Quantifying heterogeneity:\n",
              " tau^2 = 0.0011 [0.0000; 0.5254]; tau = 0.0335 [0.0000; 0.7248]\n",
              " I^2 = 0.0% [0.0%; 89.6%]; H = 1.00 [1.00; 3.10]\n",
              "\n",
              "Test of heterogeneity:\n",
              "    Q d.f. p-value\n",
              " 0.20    2  0.9061\n",
              "\n",
              "Details on meta-analytical method:\n",
              "- Inverse variance method\n",
              "- Sidik-Jonkman estimator for tau^2\n",
              "- Q-Profile method for confidence interval of tau^2 and tau\n",
              "- Hartung-Knapp (HK) adjustment for random effects model (df = 2)\n",
              "- Prediction interval based on t-distribution (HTS) (df = 1)\n",
              "- Hedges' g (bias corrected standardised mean difference; using exact formulae)"
            ]
          },
          "metadata": {}
        }
      ]
    },
    {
      "cell_type": "code",
      "metadata": {
        "colab": {
          "base_uri": "https://localhost:8080/",
          "height": 399
        },
        "id": "T_2oNOpA8JSZ",
        "outputId": "2e0202e1-e7f7-4c5d-e39d-481fe5d3d6cc"
      },
      "source": [
        "ma_random_f_measure <- metacont(n.e = our_data$Number_of_observations_for_NB,\n",
        "                  mean.e = our_data$F_Measure_NB_mean,\n",
        "                  sd.e = our_data$F_Measure_NB_std,\n",
        "                  label.e = 'NB',\n",
        "                  n.c = our_data$Number_of_observations_for_RF,\n",
        "                  mean.c = our_data$F_Measure_RF_mean,\n",
        "                  sd.c = our_data$F_Measure_RF_std,\n",
        "                  label.c = 'RF',\n",
        "                  studlab = our_data$Authors,\n",
        "                  subset=c(1,2,4),\n",
        "                  comb.fixed = FALSE,\n",
        "                  comb.random = TRUE,\n",
        "                  method.tau = \"SJ\",\n",
        "                  hakn = TRUE,\n",
        "                  prediction = TRUE,\n",
        "                  sm = \"SMD\")\n",
        "ma_random_f_measure"
      ],
      "execution_count": null,
      "outputs": [
        {
          "output_type": "display_data",
          "data": {
            "text/plain": [
              "Number of studies combined: k = 3\n",
              "Number of observations: o = 70\n",
              "\n",
              "                         SMD              95%-CI     t p-value\n",
              "Random effects model -0.8537 [ -5.1351;  3.4276] -0.86  0.4813\n",
              "Prediction interval          [-24.3227; 22.6153]              \n",
              "\n",
              "Quantifying heterogeneity:\n",
              " tau^2 = 2.4162 [0.0000; >100.0000]; tau = 1.5544 [0.0000; >10.0000]\n",
              " I^2 = 66.3% [0.0%; 90.3%]; H = 1.72 [1.00; 3.21]\n",
              "\n",
              "Test of heterogeneity:\n",
              "    Q d.f. p-value\n",
              " 5.94    2  0.0513\n",
              "\n",
              "Details on meta-analytical method:\n",
              "- Inverse variance method\n",
              "- Sidik-Jonkman estimator for tau^2\n",
              "- Q-Profile method for confidence interval of tau^2 and tau\n",
              "- Hartung-Knapp (HK) adjustment for random effects model (df = 2)\n",
              "- Prediction interval based on t-distribution (HTS) (df = 1)\n",
              "- Hedges' g (bias corrected standardised mean difference; using exact formulae)"
            ]
          },
          "metadata": {}
        }
      ]
    },
    {
      "cell_type": "code",
      "metadata": {
        "colab": {
          "base_uri": "https://localhost:8080/",
          "height": 437
        },
        "id": "bfphGEWnIat_",
        "outputId": "34e5b773-bc68-46fb-cf20-c29483974a02"
      },
      "source": [
        "forest(ma_random_recall, test.overall.random=TRUE)"
      ],
      "execution_count": null,
      "outputs": [
        {
          "output_type": "display_data",
          "data": {
            "text/plain": [
              "plot without title"
            ],
            "image/png": "[encoded data removed]"
          },
          "metadata": {
            "image/png": {
              "width": 420,
              "height": 420
            }
          }
        }
      ]
    },
    {
      "cell_type": "markdown",
      "metadata": {
        "id": "ZyA_RFw64sUZ"
      },
      "source": [
        "Saving the plots as pdf"
      ]
    },
    {
      "cell_type": "code",
      "metadata": {
        "id": "nH0rERaAwdQz",
        "colab": {
          "base_uri": "https://localhost:8080/",
          "height": 34
        },
        "outputId": "f3987eca-e33e-460c-81e2-160e7b619a90"
      },
      "source": [
        "pdf(\"/content/forest_pdf/forest-recall.pdf\", width = 10.1, height = 3)\n",
        "forest(ma_random_recall, test.overall.random=TRUE)\n",
        "dev.off()"
      ],
      "execution_count": null,
      "outputs": [
        {
          "output_type": "display_data",
          "data": {
            "text/html": [
              "<strong>png:</strong> 2"
            ],
            "text/markdown": "**png:** 2",
            "text/latex": "\\textbf{png:} 2",
            "text/plain": [
              "png \n",
              "  2 "
            ]
          },
          "metadata": {}
        }
      ]
    },
    {
      "cell_type": "code",
      "metadata": {
        "colab": {
          "base_uri": "https://localhost:8080/",
          "height": 34
        },
        "id": "H3IY2KLW8bx0",
        "outputId": "a8e3da3d-903e-49f3-e407-4d0cf623b53b"
      },
      "source": [
        "pdf(\"/content/forest_pdf/forest-precison.pdf\", width = 10.1, height = 3)\n",
        "forest(ma_random_precision, test.overall.random=TRUE)\n",
        "dev.off()"
      ],
      "execution_count": null,
      "outputs": [
        {
          "output_type": "display_data",
          "data": {
            "text/html": [
              "<strong>png:</strong> 2"
            ],
            "text/markdown": "**png:** 2",
            "text/latex": "\\textbf{png:} 2",
            "text/plain": [
              "png \n",
              "  2 "
            ]
          },
          "metadata": {}
        }
      ]
    },
    {
      "cell_type": "code",
      "metadata": {
        "colab": {
          "base_uri": "https://localhost:8080/",
          "height": 34
        },
        "id": "KBTgu9uv8hpL",
        "outputId": "5d049307-a34f-47b4-deba-2b8c3ae9375c"
      },
      "source": [
        "pdf(\"/content/forest_pdf/forest-f_measure.pdf\", width =10.1, height = 3)\n",
        "forest(ma_random_f_measure, test.overall.random=TRUE)\n",
        "dev.off()"
      ],
      "execution_count": null,
      "outputs": [
        {
          "output_type": "display_data",
          "data": {
            "text/html": [
              "<strong>png:</strong> 2"
            ],
            "text/markdown": "**png:** 2",
            "text/latex": "\\textbf{png:} 2",
            "text/plain": [
              "png \n",
              "  2 "
            ]
          },
          "metadata": {}
        }
      ]
    },
    {
      "cell_type": "markdown",
      "metadata": {
        "id": "Z09_eEQL7dLB"
      },
      "source": [
        "## References\n",
        "\n",
        "\n",
        "\n",
        "*   [Towards Data Science: How to use R in Google Colab ](https://towardsdatascience.com/how-to-use-r-in-google-colab-b6e02d736497)\n",
        "*   [Meta-package documentation](https://cran.r-project.org/web/packages/meta/meta.pdf)\n",
        "\n",
        "\n",
        "\n"
      ]
    }
  ]
}